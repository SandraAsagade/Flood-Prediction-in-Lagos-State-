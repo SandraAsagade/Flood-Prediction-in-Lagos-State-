{
 "cells": [
  {
   "cell_type": "markdown",
   "id": "3060f7df-41b5-4d03-8c9f-78e3ddbea37f",
   "metadata": {},
   "source": [
    "# Flood Prediction (The City of Lagos)"
   ]
  },
  {
   "cell_type": "markdown",
   "id": "d559a7a0-73c6-4256-8615-8cfddfc9ff55",
   "metadata": {},
   "source": [
    "## Introduction\n",
    "\n",
    "![Flood](https://leadership.ng/wp-content/uploads/2022/07/FLOOD-PIX.jpg)\n",
    "\n",
    "Flooding is a recurrent and significant challenge in Lagos, Nigeria's largest city, causing widespread damage to infrastructure, disrupting daily life, and posing severe risks to public health and safety. Understanding and predicting flood events are crucial for effective disaster preparedness and mitigation. This case study aims to forecast the likely date of the next flood in Lagos. By analyzing historical weather patterns, precipitation levels, tidal data, and other relevant factors, we seek to develop a predictive model that can provide timely warnings and help in planning preventative measures. This study not only highlights the importance of data-driven approaches in addressing environmental challenges but also aims to contribute to the resilience and sustainability of urban environments prone to flooding.\n",
    "\n",
    "*Data Source:* https://shorturl.at/qB54F\n",
    "\n",
    "*Documentation:* https://shorturl.at/8mP3z"
   ]
  },
  {
   "cell_type": "markdown",
   "id": "53479010-656b-441b-b852-71bb5ddc0752",
   "metadata": {},
   "source": [
    "## Methodology\n",
    "\n",
    "In this case study, data-driven approach was employed to predict the next potential flood date in Lagos. the first step was collecting extensive historical data on weather patterns. This data was then cleaned and preprocessed to ensure accuracy and consistency. Further analysis was conducted to identify patterns and correlations between rainfall intensity, and duration. A predictive model was developed using logistic regression, incorporating key variables such as average precipitation per hour and total rainfall duration. The model was trained and validated to ensure its reliability in forecasting flood events. Finally, the predictions were analyzed to identify the most probable date for the next flood, highlighting areas at risk and the factors contributing to the heightened flood likelihood."
   ]
  },
  {
   "cell_type": "markdown",
   "id": "c16c9155-53bf-460f-ad85-ab4b2c2fce23",
   "metadata": {},
   "source": [
    "### Importing Libraries"
   ]
  },
  {
   "cell_type": "code",
   "execution_count": 1,
   "id": "10c189dd-be94-40d7-a474-b440f1049d5e",
   "metadata": {},
   "outputs": [],
   "source": [
    "#Importing libraries\n",
    "\n",
    "import pandas as pd\n",
    "import numpy as np\n",
    "from datetime import datetime\n",
    "import matplotlib.pyplot as plt\n",
    "import seaborn as sb\n",
    "\n",
    "import warnings\n",
    "warnings.filterwarnings(action='ignore')"
   ]
  },
  {
   "cell_type": "markdown",
   "id": "4344011f-0a5f-4f4a-b7df-280389ee86a9",
   "metadata": {},
   "source": [
    "### Importing the data"
   ]
  },
  {
   "cell_type": "code",
   "execution_count": 2,
   "id": "fd29de70-4f7a-46b1-8a94-bd54c92d0bb9",
   "metadata": {},
   "outputs": [
    {
     "data": {
      "text/html": [
       "<div>\n",
       "<style scoped>\n",
       "    .dataframe tbody tr th:only-of-type {\n",
       "        vertical-align: middle;\n",
       "    }\n",
       "\n",
       "    .dataframe tbody tr th {\n",
       "        vertical-align: top;\n",
       "    }\n",
       "\n",
       "    .dataframe thead th {\n",
       "        text-align: right;\n",
       "    }\n",
       "</style>\n",
       "<table border=\"1\" class=\"dataframe\">\n",
       "  <thead>\n",
       "    <tr style=\"text-align: right;\">\n",
       "      <th></th>\n",
       "      <th>name</th>\n",
       "      <th>datetime</th>\n",
       "      <th>tempmax</th>\n",
       "      <th>tempmin</th>\n",
       "      <th>temp</th>\n",
       "      <th>feelslikemax</th>\n",
       "      <th>feelslikemin</th>\n",
       "      <th>feelslike</th>\n",
       "      <th>dew</th>\n",
       "      <th>humidity</th>\n",
       "      <th>...</th>\n",
       "      <th>solarenergy</th>\n",
       "      <th>uvindex</th>\n",
       "      <th>severerisk</th>\n",
       "      <th>sunrise</th>\n",
       "      <th>sunset</th>\n",
       "      <th>moonphase</th>\n",
       "      <th>conditions</th>\n",
       "      <th>description</th>\n",
       "      <th>icon</th>\n",
       "      <th>stations</th>\n",
       "    </tr>\n",
       "  </thead>\n",
       "  <tbody>\n",
       "    <tr>\n",
       "      <th>0</th>\n",
       "      <td>Lagos</td>\n",
       "      <td>2023-01-01</td>\n",
       "      <td>95.0</td>\n",
       "      <td>69.4</td>\n",
       "      <td>80.4</td>\n",
       "      <td>92.7</td>\n",
       "      <td>69.4</td>\n",
       "      <td>79.9</td>\n",
       "      <td>58.5</td>\n",
       "      <td>50.2</td>\n",
       "      <td>...</td>\n",
       "      <td>22.9</td>\n",
       "      <td>9</td>\n",
       "      <td>10</td>\n",
       "      <td>2023-01-01T06:57:18</td>\n",
       "      <td>2023-01-01T18:42:34</td>\n",
       "      <td>0.31</td>\n",
       "      <td>Partially cloudy</td>\n",
       "      <td>Partly cloudy throughout the day.</td>\n",
       "      <td>partly-cloudy-day</td>\n",
       "      <td>DNMM,remote,65201099999,VRJT5</td>\n",
       "    </tr>\n",
       "    <tr>\n",
       "      <th>1</th>\n",
       "      <td>Lagos</td>\n",
       "      <td>2023-01-02</td>\n",
       "      <td>95.0</td>\n",
       "      <td>66.2</td>\n",
       "      <td>80.3</td>\n",
       "      <td>93.2</td>\n",
       "      <td>66.2</td>\n",
       "      <td>79.6</td>\n",
       "      <td>58.8</td>\n",
       "      <td>52.2</td>\n",
       "      <td>...</td>\n",
       "      <td>21.8</td>\n",
       "      <td>9</td>\n",
       "      <td>10</td>\n",
       "      <td>2023-01-02T06:57:43</td>\n",
       "      <td>2023-01-02T18:43:05</td>\n",
       "      <td>0.35</td>\n",
       "      <td>Partially cloudy</td>\n",
       "      <td>Partly cloudy throughout the day.</td>\n",
       "      <td>partly-cloudy-day</td>\n",
       "      <td>65210099999,DNMM,remote,65201099999</td>\n",
       "    </tr>\n",
       "    <tr>\n",
       "      <th>2</th>\n",
       "      <td>Lagos</td>\n",
       "      <td>2023-01-03</td>\n",
       "      <td>93.2</td>\n",
       "      <td>69.6</td>\n",
       "      <td>80.7</td>\n",
       "      <td>91.9</td>\n",
       "      <td>69.6</td>\n",
       "      <td>80.5</td>\n",
       "      <td>59.4</td>\n",
       "      <td>50.3</td>\n",
       "      <td>...</td>\n",
       "      <td>23.1</td>\n",
       "      <td>9</td>\n",
       "      <td>10</td>\n",
       "      <td>2023-01-03T06:58:08</td>\n",
       "      <td>2023-01-03T18:43:36</td>\n",
       "      <td>0.38</td>\n",
       "      <td>Partially cloudy</td>\n",
       "      <td>Partly cloudy throughout the day.</td>\n",
       "      <td>partly-cloudy-day</td>\n",
       "      <td>DNMM,65201099999</td>\n",
       "    </tr>\n",
       "  </tbody>\n",
       "</table>\n",
       "<p>3 rows × 33 columns</p>\n",
       "</div>"
      ],
      "text/plain": [
       "    name   datetime  tempmax  tempmin  temp  feelslikemax  feelslikemin  \\\n",
       "0  Lagos 2023-01-01     95.0     69.4  80.4          92.7          69.4   \n",
       "1  Lagos 2023-01-02     95.0     66.2  80.3          93.2          66.2   \n",
       "2  Lagos 2023-01-03     93.2     69.6  80.7          91.9          69.6   \n",
       "\n",
       "   feelslike   dew  humidity  ...  solarenergy  uvindex  severerisk  \\\n",
       "0       79.9  58.5      50.2  ...         22.9        9          10   \n",
       "1       79.6  58.8      52.2  ...         21.8        9          10   \n",
       "2       80.5  59.4      50.3  ...         23.1        9          10   \n",
       "\n",
       "               sunrise               sunset  moonphase        conditions  \\\n",
       "0  2023-01-01T06:57:18  2023-01-01T18:42:34       0.31  Partially cloudy   \n",
       "1  2023-01-02T06:57:43  2023-01-02T18:43:05       0.35  Partially cloudy   \n",
       "2  2023-01-03T06:58:08  2023-01-03T18:43:36       0.38  Partially cloudy   \n",
       "\n",
       "                         description               icon  \\\n",
       "0  Partly cloudy throughout the day.  partly-cloudy-day   \n",
       "1  Partly cloudy throughout the day.  partly-cloudy-day   \n",
       "2  Partly cloudy throughout the day.  partly-cloudy-day   \n",
       "\n",
       "                              stations  \n",
       "0        DNMM,remote,65201099999,VRJT5  \n",
       "1  65210099999,DNMM,remote,65201099999  \n",
       "2                     DNMM,65201099999  \n",
       "\n",
       "[3 rows x 33 columns]"
      ]
     },
     "execution_count": 2,
     "metadata": {},
     "output_type": "execute_result"
    }
   ],
   "source": [
    "# Function to parse dates\n",
    "def custom_date_parser(date_str):\n",
    "    return datetime.strptime(date_str, '%d/%m/%Y')\n",
    "\n",
    "# Load the data with date parsing\n",
    "data1 = pd.read_csv(\"Lagos 2023-01-01 to 2024-07-07.csv\", parse_dates=['datetime'],\n",
    "                    date_parser=custom_date_parser)\n",
    "data1.head(3)"
   ]
  },
  {
   "cell_type": "markdown",
   "id": "53fc1e95-2e6a-4aa7-b2ab-ca338eabbdee",
   "metadata": {},
   "source": [
    "### Data Information"
   ]
  },
  {
   "cell_type": "code",
   "execution_count": 3,
   "id": "cc7d234e-f7b1-4646-9b31-206350a94f56",
   "metadata": {},
   "outputs": [
    {
     "name": "stdout",
     "output_type": "stream",
     "text": [
      "<class 'pandas.core.frame.DataFrame'>\n",
      "RangeIndex: 554 entries, 0 to 553\n",
      "Data columns (total 33 columns):\n",
      " #   Column            Non-Null Count  Dtype         \n",
      "---  ------            --------------  -----         \n",
      " 0   name              554 non-null    object        \n",
      " 1   datetime          554 non-null    datetime64[ns]\n",
      " 2   tempmax           554 non-null    float64       \n",
      " 3   tempmin           554 non-null    float64       \n",
      " 4   temp              554 non-null    float64       \n",
      " 5   feelslikemax      554 non-null    float64       \n",
      " 6   feelslikemin      554 non-null    float64       \n",
      " 7   feelslike         554 non-null    float64       \n",
      " 8   dew               554 non-null    float64       \n",
      " 9   humidity          554 non-null    float64       \n",
      " 10  precip            554 non-null    float64       \n",
      " 11  precipprob        554 non-null    int64         \n",
      " 12  precipcover       554 non-null    float64       \n",
      " 13  preciptype        405 non-null    object        \n",
      " 14  snow              554 non-null    int64         \n",
      " 15  snowdepth         549 non-null    float64       \n",
      " 16  windgust          554 non-null    float64       \n",
      " 17  windspeed         554 non-null    float64       \n",
      " 18  winddir           554 non-null    float64       \n",
      " 19  sealevelpressure  554 non-null    float64       \n",
      " 20  cloudcover        554 non-null    float64       \n",
      " 21  visibility        554 non-null    float64       \n",
      " 22  solarradiation    554 non-null    float64       \n",
      " 23  solarenergy       554 non-null    float64       \n",
      " 24  uvindex           554 non-null    int64         \n",
      " 25  severerisk        554 non-null    int64         \n",
      " 26  sunrise           554 non-null    object        \n",
      " 27  sunset            554 non-null    object        \n",
      " 28  moonphase         554 non-null    float64       \n",
      " 29  conditions        554 non-null    object        \n",
      " 30  description       554 non-null    object        \n",
      " 31  icon              554 non-null    object        \n",
      " 32  stations          554 non-null    object        \n",
      "dtypes: datetime64[ns](1), float64(20), int64(4), object(8)\n",
      "memory usage: 143.0+ KB\n"
     ]
    }
   ],
   "source": [
    "data1.info()"
   ]
  },
  {
   "cell_type": "markdown",
   "id": "e8a01642-d416-4461-b113-3bbc076f759c",
   "metadata": {},
   "source": [
    "### Data Preprocessing\n",
    "\n",
    "Data preprocessing was essential to ensure the predictive model's accuracy. Raw data was collected and then cleaned to remove inconsistencies. Date formats were standardized, and all measurements were converted to consistent units. This meticulous preprocessing ensured that the analysis and modeling were based on accurate, consistent, and high-quality data, enhancing the flood prediction model's reliability."
   ]
  },
  {
   "cell_type": "markdown",
   "id": "826cef86-e959-4322-8106-1c14ed122c56",
   "metadata": {},
   "source": [
    "#### Dropping Some Columns"
   ]
  },
  {
   "cell_type": "code",
   "execution_count": 4,
   "id": "95fcb4cd-05b5-4cf4-9734-d7419a6dc2f9",
   "metadata": {},
   "outputs": [
    {
     "data": {
      "text/html": [
       "<div>\n",
       "<style scoped>\n",
       "    .dataframe tbody tr th:only-of-type {\n",
       "        vertical-align: middle;\n",
       "    }\n",
       "\n",
       "    .dataframe tbody tr th {\n",
       "        vertical-align: top;\n",
       "    }\n",
       "\n",
       "    .dataframe thead th {\n",
       "        text-align: right;\n",
       "    }\n",
       "</style>\n",
       "<table border=\"1\" class=\"dataframe\">\n",
       "  <thead>\n",
       "    <tr style=\"text-align: right;\">\n",
       "      <th></th>\n",
       "      <th>datetime</th>\n",
       "      <th>temp</th>\n",
       "      <th>precip</th>\n",
       "      <th>precipcover</th>\n",
       "    </tr>\n",
       "  </thead>\n",
       "  <tbody>\n",
       "    <tr>\n",
       "      <th>0</th>\n",
       "      <td>2023-01-01</td>\n",
       "      <td>80.4</td>\n",
       "      <td>0.0</td>\n",
       "      <td>0.0</td>\n",
       "    </tr>\n",
       "    <tr>\n",
       "      <th>1</th>\n",
       "      <td>2023-01-02</td>\n",
       "      <td>80.3</td>\n",
       "      <td>0.0</td>\n",
       "      <td>0.0</td>\n",
       "    </tr>\n",
       "    <tr>\n",
       "      <th>2</th>\n",
       "      <td>2023-01-03</td>\n",
       "      <td>80.7</td>\n",
       "      <td>0.0</td>\n",
       "      <td>0.0</td>\n",
       "    </tr>\n",
       "  </tbody>\n",
       "</table>\n",
       "</div>"
      ],
      "text/plain": [
       "    datetime  temp  precip  precipcover\n",
       "0 2023-01-01  80.4     0.0          0.0\n",
       "1 2023-01-02  80.3     0.0          0.0\n",
       "2 2023-01-03  80.7     0.0          0.0"
      ]
     },
     "execution_count": 4,
     "metadata": {},
     "output_type": "execute_result"
    }
   ],
   "source": [
    "data2 = data1.drop(['name', 'tempmax', 'tempmin', 'feelslikemax',\n",
    "       'feelslikemin', 'feelslike', 'dew', 'humidity', 'precipprob', 'preciptype', 'snow',\n",
    "        'snowdepth', 'windgust','windspeed', 'winddir', 'sealevelpressure',\n",
    "        'cloudcover', 'visibility', 'solarradiation', 'solarenergy', 'uvindex',\n",
    "    'severerisk', 'sunrise','sunset', 'moonphase', 'conditions',\n",
    "    'description', 'icon', 'stations'], axis = 1)\n",
    "data2.head(3)"
   ]
  },
  {
   "cell_type": "markdown",
   "id": "8c944dc1-4293-4cea-8e5f-66ebf5b91b4b",
   "metadata": {},
   "source": [
    "#### Renaming the columns for better understanding"
   ]
  },
  {
   "cell_type": "code",
   "execution_count": 5,
   "id": "e738f26c-cb26-4840-9e3f-527fceff9977",
   "metadata": {},
   "outputs": [
    {
     "data": {
      "text/html": [
       "<div>\n",
       "<style scoped>\n",
       "    .dataframe tbody tr th:only-of-type {\n",
       "        vertical-align: middle;\n",
       "    }\n",
       "\n",
       "    .dataframe tbody tr th {\n",
       "        vertical-align: top;\n",
       "    }\n",
       "\n",
       "    .dataframe thead th {\n",
       "        text-align: right;\n",
       "    }\n",
       "</style>\n",
       "<table border=\"1\" class=\"dataframe\">\n",
       "  <thead>\n",
       "    <tr style=\"text-align: right;\">\n",
       "      <th></th>\n",
       "      <th>date</th>\n",
       "      <th>avg daily temp</th>\n",
       "      <th>daily precip</th>\n",
       "      <th>daily precipcover</th>\n",
       "    </tr>\n",
       "  </thead>\n",
       "  <tbody>\n",
       "    <tr>\n",
       "      <th>0</th>\n",
       "      <td>2023-01-01</td>\n",
       "      <td>80.4</td>\n",
       "      <td>0.0</td>\n",
       "      <td>0.0</td>\n",
       "    </tr>\n",
       "    <tr>\n",
       "      <th>1</th>\n",
       "      <td>2023-01-02</td>\n",
       "      <td>80.3</td>\n",
       "      <td>0.0</td>\n",
       "      <td>0.0</td>\n",
       "    </tr>\n",
       "    <tr>\n",
       "      <th>2</th>\n",
       "      <td>2023-01-03</td>\n",
       "      <td>80.7</td>\n",
       "      <td>0.0</td>\n",
       "      <td>0.0</td>\n",
       "    </tr>\n",
       "  </tbody>\n",
       "</table>\n",
       "</div>"
      ],
      "text/plain": [
       "        date  avg daily temp  daily precip  daily precipcover\n",
       "0 2023-01-01            80.4           0.0                0.0\n",
       "1 2023-01-02            80.3           0.0                0.0\n",
       "2 2023-01-03            80.7           0.0                0.0"
      ]
     },
     "execution_count": 5,
     "metadata": {},
     "output_type": "execute_result"
    }
   ],
   "source": [
    "data2 = data2.rename(columns={\n",
    "    'datetime': 'date',\n",
    "    'temp': 'avg daily temp',\n",
    "    'precip': 'daily precip',\n",
    "    'precipcover': 'daily precipcover'\n",
    "})\n",
    "\n",
    "data2.head(3)"
   ]
  },
  {
   "cell_type": "markdown",
   "id": "f4eac134-b662-48d1-94d8-ca085d9fc5b1",
   "metadata": {},
   "source": [
    "#### Defining the  Current Data\n",
    "\n",
    "Here we'll be defining the features(columns) we'll be working with. You can head over to the documentation to see other definitions.\n",
    "\n",
    "1. **date:** Date in day-month-year\n",
    "2. **avg daily temp:** The average temperature for a specified date in degree Fahrenheit (℉)\n",
    "3. **daily precip:** Daily precipitation in inches - The amount of precipitation (in this case, rain) that fell or is predicted to fall in the specified date.\n",
    "4. **daily precipcover:** This is the proportion of time for which measurable precipitation was recorded per day, expressed as a percentage. For example, if within a 24 hour day there are six hours of measurable rainfall, the precipitation coverage is 25% i.e. (6/24)*100"
   ]
  },
  {
   "cell_type": "markdown",
   "id": "19a93ba1-7725-457b-8730-f294cbed4cff",
   "metadata": {},
   "source": [
    "#### Standardizing Columns (temp and precip\n",
    "\n",
    "We'll be converting the values in the **precip** column from inches to millimeters and the values in the **temp** column from degree Fahrenheit (℉) to degree Celsius (℃)\n",
    "\n",
    "* **Converting from inch to mm**\n",
    "  \n",
    "    * 1 inch=25.4 millimeters\n",
    "    * So, the formula to convert inches to millimeters is: mm = inches × 25.4\n",
    "    \n",
    "* **Converting from (℉) to (℃)**\n",
    "    * C= (5/9) ×(F−32)\n",
    "    * C= 0.56 ×(F−32)\n",
    "    * Where 𝐶 is the temperature in Celsius and F is the temperature in Fahrenheit."
   ]
  },
  {
   "cell_type": "code",
   "execution_count": 6,
   "id": "be936610-4e7d-4128-bcd3-8e4daf193dff",
   "metadata": {},
   "outputs": [
    {
     "data": {
      "text/html": [
       "<div>\n",
       "<style scoped>\n",
       "    .dataframe tbody tr th:only-of-type {\n",
       "        vertical-align: middle;\n",
       "    }\n",
       "\n",
       "    .dataframe tbody tr th {\n",
       "        vertical-align: top;\n",
       "    }\n",
       "\n",
       "    .dataframe thead th {\n",
       "        text-align: right;\n",
       "    }\n",
       "</style>\n",
       "<table border=\"1\" class=\"dataframe\">\n",
       "  <thead>\n",
       "    <tr style=\"text-align: right;\">\n",
       "      <th></th>\n",
       "      <th>date</th>\n",
       "      <th>avg daily temp</th>\n",
       "      <th>daily precip</th>\n",
       "      <th>daily precipcover</th>\n",
       "    </tr>\n",
       "  </thead>\n",
       "  <tbody>\n",
       "    <tr>\n",
       "      <th>0</th>\n",
       "      <td>2023-01-01</td>\n",
       "      <td>27.104</td>\n",
       "      <td>0.0</td>\n",
       "      <td>0.0</td>\n",
       "    </tr>\n",
       "    <tr>\n",
       "      <th>1</th>\n",
       "      <td>2023-01-02</td>\n",
       "      <td>27.048</td>\n",
       "      <td>0.0</td>\n",
       "      <td>0.0</td>\n",
       "    </tr>\n",
       "    <tr>\n",
       "      <th>2</th>\n",
       "      <td>2023-01-03</td>\n",
       "      <td>27.272</td>\n",
       "      <td>0.0</td>\n",
       "      <td>0.0</td>\n",
       "    </tr>\n",
       "  </tbody>\n",
       "</table>\n",
       "</div>"
      ],
      "text/plain": [
       "        date  avg daily temp  daily precip  daily precipcover\n",
       "0 2023-01-01          27.104           0.0                0.0\n",
       "1 2023-01-02          27.048           0.0                0.0\n",
       "2 2023-01-03          27.272           0.0                0.0"
      ]
     },
     "execution_count": 6,
     "metadata": {},
     "output_type": "execute_result"
    }
   ],
   "source": [
    "# converting the values in the precip column from inches to millimeters\n",
    "data3 = data2.copy()\n",
    "\n",
    "data3['daily precip'] = data3['daily precip'] * 25.4\n",
    "\n",
    "# converting the values in the temp column from degree Fahrenheit (℉) to degree Celsius (℃)\n",
    "\n",
    "data3['avg daily temp'] = 0.56 * (data3['avg daily temp'] - 32)\n",
    "\n",
    "data3.head(3)"
   ]
  },
  {
   "cell_type": "markdown",
   "id": "fdd6d2f4-1d43-4349-b397-e0f9563eebf4",
   "metadata": {},
   "source": [
    "### Defining a Threshold for Flooding in Lagos state - What features and under what circumstances do floods occur?\n",
    "\n",
    "Several weather features can contribute to flooding in Lagos state, either individually or in combination. We'll be looking at a combinationation of factors involving temperature, precipitation intensity (in mm per hour), and the duration of rainfall hours. Here's how each metric contributes to flood occurrence, particularly focusing on rainfall-induced floods:\n",
    "\n",
    "1. **Precipitation/rainfall Intensity (mm per hour):**\n",
    "    * **High Intensity:** Intense rainfall rates (typically > 10 mm/hour) can overwhelm drainage systems, causing rapid runoff into rivers, streams, and urban areas. This can lead to flash floods, especially in urban environments with impermeable surfaces.\n",
    "\n",
    "    * **Moderate Intensity:** Prolonged moderate rainfall (2.5 - 10 mm/hour) over several hours can also contribute to flooding, particularly in areas with poor drainage or saturated soils. In urban areas with extensive pavement and limited green spaces, even moderate rainfall intensity (> 2.5 mm/hour) over several hours can overwhelm drainage systems, leading to localized flooding.\n",
    "\n",
    "2. **Rainfall Duration (hours):** Continuous or prolonged rainfall over several hours can saturate the ground and increase runoff into water bodies. This prolonged exposure to rain is critical in determining the severity of flooding.\n",
    "\n",
    "3. **Temperature:**  Higher temperatures can increase evaporation rates, leading to higher humidity and potentially more intense thunderstorms. Warmer air can hold more moisture, potentially leading to heavier rainfall events.\n",
    "\n",
    "\n",
    "In Nigeria, as in many other places, rainfall intensity can be categorized based on the amount of rainfall over a specific period. Here’s a general classification:\n",
    "\n",
    "### Rainfall Intensity Categories:\n",
    "1. **Light Rain:** Less than 2.5 mm per hour\n",
    "2. **Moderate Rain:** 2.5 mm to 7.6 mm per hour\n",
    "3. **Heavy Rain:** More than 7.6 mm per hour\n",
    "4. **Very Heavy Rain:** More than 50 mm in a 24-hour period\n",
    "5. **Extreme Rainfall:** More than 100 mm in a 24-hour period\n",
    "\n",
    "With this in mind, we'll be creating new columns for our flood prediction model. With these columns, we'll be able to predict flood likelihood."
   ]
  },
  {
   "cell_type": "markdown",
   "id": "755bec61-796a-4679-891c-ed45ec45c6ce",
   "metadata": {},
   "source": [
    "#### Creating new columns for the flood prediction model\n",
    "\n",
    "* **Hours of measureable rain (within a 24-hour period):** The recorded number of hours of rainfall for a specified day\n",
    "* **Average precip per hour:** This is the average precipitaion (rainfall in mm) per hour of a specified day"
   ]
  },
  {
   "cell_type": "code",
   "execution_count": 7,
   "id": "68837514-4c64-4f26-9f85-eb4d539e3924",
   "metadata": {},
   "outputs": [
    {
     "data": {
      "text/html": [
       "<div>\n",
       "<style scoped>\n",
       "    .dataframe tbody tr th:only-of-type {\n",
       "        vertical-align: middle;\n",
       "    }\n",
       "\n",
       "    .dataframe tbody tr th {\n",
       "        vertical-align: top;\n",
       "    }\n",
       "\n",
       "    .dataframe thead th {\n",
       "        text-align: right;\n",
       "    }\n",
       "</style>\n",
       "<table border=\"1\" class=\"dataframe\">\n",
       "  <thead>\n",
       "    <tr style=\"text-align: right;\">\n",
       "      <th></th>\n",
       "      <th>date</th>\n",
       "      <th>avg daily temp</th>\n",
       "      <th>daily precip</th>\n",
       "      <th>daily precipcover</th>\n",
       "      <th>rainfall hours</th>\n",
       "      <th>avg precip (mm/h)</th>\n",
       "    </tr>\n",
       "  </thead>\n",
       "  <tbody>\n",
       "    <tr>\n",
       "      <th>0</th>\n",
       "      <td>2023-01-01</td>\n",
       "      <td>27.104</td>\n",
       "      <td>0.0</td>\n",
       "      <td>0.0</td>\n",
       "      <td>0.0</td>\n",
       "      <td>NaN</td>\n",
       "    </tr>\n",
       "    <tr>\n",
       "      <th>1</th>\n",
       "      <td>2023-01-02</td>\n",
       "      <td>27.048</td>\n",
       "      <td>0.0</td>\n",
       "      <td>0.0</td>\n",
       "      <td>0.0</td>\n",
       "      <td>NaN</td>\n",
       "    </tr>\n",
       "    <tr>\n",
       "      <th>2</th>\n",
       "      <td>2023-01-03</td>\n",
       "      <td>27.272</td>\n",
       "      <td>0.0</td>\n",
       "      <td>0.0</td>\n",
       "      <td>0.0</td>\n",
       "      <td>NaN</td>\n",
       "    </tr>\n",
       "  </tbody>\n",
       "</table>\n",
       "</div>"
      ],
      "text/plain": [
       "        date  avg daily temp  daily precip  daily precipcover  rainfall hours  \\\n",
       "0 2023-01-01          27.104           0.0                0.0             0.0   \n",
       "1 2023-01-02          27.048           0.0                0.0             0.0   \n",
       "2 2023-01-03          27.272           0.0                0.0             0.0   \n",
       "\n",
       "   avg precip (mm/h)  \n",
       "0                NaN  \n",
       "1                NaN  \n",
       "2                NaN  "
      ]
     },
     "execution_count": 7,
     "metadata": {},
     "output_type": "execute_result"
    }
   ],
   "source": [
    "#Hours of measureable rain (within a 24-hour period)\n",
    "data3['rainfall hours'] = round(0.24 * data3['daily precipcover'],0)\n",
    "\n",
    "# Average precip per hour\n",
    "data3['avg precip (mm/h)'] = round(data3['daily precip']/data3['rainfall hours'], 2)\n",
    "\n",
    "data3.head(3)"
   ]
  },
  {
   "cell_type": "code",
   "execution_count": 8,
   "id": "81d5babb-f6ee-440d-82ba-f393e5161859",
   "metadata": {},
   "outputs": [
    {
     "data": {
      "text/html": [
       "<div>\n",
       "<style scoped>\n",
       "    .dataframe tbody tr th:only-of-type {\n",
       "        vertical-align: middle;\n",
       "    }\n",
       "\n",
       "    .dataframe tbody tr th {\n",
       "        vertical-align: top;\n",
       "    }\n",
       "\n",
       "    .dataframe thead th {\n",
       "        text-align: right;\n",
       "    }\n",
       "</style>\n",
       "<table border=\"1\" class=\"dataframe\">\n",
       "  <thead>\n",
       "    <tr style=\"text-align: right;\">\n",
       "      <th></th>\n",
       "      <th>date</th>\n",
       "      <th>avg daily temp</th>\n",
       "      <th>daily precip</th>\n",
       "      <th>daily precipcover</th>\n",
       "      <th>rainfall hours</th>\n",
       "      <th>avg precip (mm/h)</th>\n",
       "    </tr>\n",
       "  </thead>\n",
       "  <tbody>\n",
       "    <tr>\n",
       "      <th>0</th>\n",
       "      <td>2023-01-01</td>\n",
       "      <td>27.104</td>\n",
       "      <td>0.0</td>\n",
       "      <td>0.0</td>\n",
       "      <td>0.0</td>\n",
       "      <td>0.0</td>\n",
       "    </tr>\n",
       "    <tr>\n",
       "      <th>1</th>\n",
       "      <td>2023-01-02</td>\n",
       "      <td>27.048</td>\n",
       "      <td>0.0</td>\n",
       "      <td>0.0</td>\n",
       "      <td>0.0</td>\n",
       "      <td>0.0</td>\n",
       "    </tr>\n",
       "    <tr>\n",
       "      <th>2</th>\n",
       "      <td>2023-01-03</td>\n",
       "      <td>27.272</td>\n",
       "      <td>0.0</td>\n",
       "      <td>0.0</td>\n",
       "      <td>0.0</td>\n",
       "      <td>0.0</td>\n",
       "    </tr>\n",
       "  </tbody>\n",
       "</table>\n",
       "</div>"
      ],
      "text/plain": [
       "        date  avg daily temp  daily precip  daily precipcover  rainfall hours  \\\n",
       "0 2023-01-01          27.104           0.0                0.0             0.0   \n",
       "1 2023-01-02          27.048           0.0                0.0             0.0   \n",
       "2 2023-01-03          27.272           0.0                0.0             0.0   \n",
       "\n",
       "   avg precip (mm/h)  \n",
       "0                0.0  \n",
       "1                0.0  \n",
       "2                0.0  "
      ]
     },
     "execution_count": 8,
     "metadata": {},
     "output_type": "execute_result"
    }
   ],
   "source": [
    "#Replace NaN(nulls) with 0\n",
    "\n",
    "data3['avg precip (mm/h)'].replace(np.nan, 0, inplace = True)\n",
    "data3.head(3)"
   ]
  },
  {
   "cell_type": "code",
   "execution_count": 9,
   "id": "f564c0af-ed68-4960-a2b3-0ce62fceb3fc",
   "metadata": {},
   "outputs": [
    {
     "data": {
      "text/html": [
       "<div>\n",
       "<style scoped>\n",
       "    .dataframe tbody tr th:only-of-type {\n",
       "        vertical-align: middle;\n",
       "    }\n",
       "\n",
       "    .dataframe tbody tr th {\n",
       "        vertical-align: top;\n",
       "    }\n",
       "\n",
       "    .dataframe thead th {\n",
       "        text-align: right;\n",
       "    }\n",
       "</style>\n",
       "<table border=\"1\" class=\"dataframe\">\n",
       "  <thead>\n",
       "    <tr style=\"text-align: right;\">\n",
       "      <th></th>\n",
       "      <th>date</th>\n",
       "      <th>avg daily temp</th>\n",
       "      <th>daily precip</th>\n",
       "      <th>daily precipcover</th>\n",
       "      <th>rainfall hours</th>\n",
       "      <th>avg precip (mm/h)</th>\n",
       "    </tr>\n",
       "  </thead>\n",
       "  <tbody>\n",
       "    <tr>\n",
       "      <th>count</th>\n",
       "      <td>554</td>\n",
       "      <td>554.000000</td>\n",
       "      <td>554.000000</td>\n",
       "      <td>554.000000</td>\n",
       "      <td>554.000000</td>\n",
       "      <td>554.000000</td>\n",
       "    </tr>\n",
       "    <tr>\n",
       "      <th>mean</th>\n",
       "      <td>2023-10-04 12:00:00</td>\n",
       "      <td>28.355206</td>\n",
       "      <td>5.068675</td>\n",
       "      <td>4.964639</td>\n",
       "      <td>1.191336</td>\n",
       "      <td>3.663556</td>\n",
       "    </tr>\n",
       "    <tr>\n",
       "      <th>min</th>\n",
       "      <td>2023-01-01 00:00:00</td>\n",
       "      <td>24.640000</td>\n",
       "      <td>0.000000</td>\n",
       "      <td>0.000000</td>\n",
       "      <td>0.000000</td>\n",
       "      <td>0.000000</td>\n",
       "    </tr>\n",
       "    <tr>\n",
       "      <th>25%</th>\n",
       "      <td>2023-05-19 06:00:00</td>\n",
       "      <td>27.272000</td>\n",
       "      <td>0.000000</td>\n",
       "      <td>0.000000</td>\n",
       "      <td>0.000000</td>\n",
       "      <td>0.000000</td>\n",
       "    </tr>\n",
       "    <tr>\n",
       "      <th>50%</th>\n",
       "      <td>2023-10-04 12:00:00</td>\n",
       "      <td>28.616000</td>\n",
       "      <td>0.000000</td>\n",
       "      <td>0.000000</td>\n",
       "      <td>0.000000</td>\n",
       "      <td>0.000000</td>\n",
       "    </tr>\n",
       "    <tr>\n",
       "      <th>75%</th>\n",
       "      <td>2024-02-19 18:00:00</td>\n",
       "      <td>29.442000</td>\n",
       "      <td>2.997200</td>\n",
       "      <td>4.170000</td>\n",
       "      <td>1.000000</td>\n",
       "      <td>1.185000</td>\n",
       "    </tr>\n",
       "    <tr>\n",
       "      <th>max</th>\n",
       "      <td>2024-07-07 00:00:00</td>\n",
       "      <td>31.528000</td>\n",
       "      <td>99.999800</td>\n",
       "      <td>79.170000</td>\n",
       "      <td>19.000000</td>\n",
       "      <td>100.000000</td>\n",
       "    </tr>\n",
       "    <tr>\n",
       "      <th>std</th>\n",
       "      <td>NaN</td>\n",
       "      <td>1.402897</td>\n",
       "      <td>12.755123</td>\n",
       "      <td>9.368338</td>\n",
       "      <td>2.248455</td>\n",
       "      <td>10.000278</td>\n",
       "    </tr>\n",
       "  </tbody>\n",
       "</table>\n",
       "</div>"
      ],
      "text/plain": [
       "                      date  avg daily temp  daily precip  daily precipcover  \\\n",
       "count                  554      554.000000    554.000000         554.000000   \n",
       "mean   2023-10-04 12:00:00       28.355206      5.068675           4.964639   \n",
       "min    2023-01-01 00:00:00       24.640000      0.000000           0.000000   \n",
       "25%    2023-05-19 06:00:00       27.272000      0.000000           0.000000   \n",
       "50%    2023-10-04 12:00:00       28.616000      0.000000           0.000000   \n",
       "75%    2024-02-19 18:00:00       29.442000      2.997200           4.170000   \n",
       "max    2024-07-07 00:00:00       31.528000     99.999800          79.170000   \n",
       "std                    NaN        1.402897     12.755123           9.368338   \n",
       "\n",
       "       rainfall hours  avg precip (mm/h)  \n",
       "count      554.000000         554.000000  \n",
       "mean         1.191336           3.663556  \n",
       "min          0.000000           0.000000  \n",
       "25%          0.000000           0.000000  \n",
       "50%          0.000000           0.000000  \n",
       "75%          1.000000           1.185000  \n",
       "max         19.000000         100.000000  \n",
       "std          2.248455          10.000278  "
      ]
     },
     "execution_count": 9,
     "metadata": {},
     "output_type": "execute_result"
    }
   ],
   "source": [
    "#Describing the data\n",
    "\n",
    "data3.describe()"
   ]
  },
  {
   "cell_type": "markdown",
   "id": "2e4f52aa-a52f-47e9-b401-ca16a29229fd",
   "metadata": {},
   "source": [
    "#### Creating the target column for flood prediction\n",
    "\n",
    "Here we'll define a function to create a column that would tell us the likelihood of flood"
   ]
  },
  {
   "cell_type": "code",
   "execution_count": 10,
   "id": "2ce659b3-c99c-40e3-a95d-bf43c7afef94",
   "metadata": {},
   "outputs": [
    {
     "data": {
      "text/html": [
       "<div>\n",
       "<style scoped>\n",
       "    .dataframe tbody tr th:only-of-type {\n",
       "        vertical-align: middle;\n",
       "    }\n",
       "\n",
       "    .dataframe tbody tr th {\n",
       "        vertical-align: top;\n",
       "    }\n",
       "\n",
       "    .dataframe thead th {\n",
       "        text-align: right;\n",
       "    }\n",
       "</style>\n",
       "<table border=\"1\" class=\"dataframe\">\n",
       "  <thead>\n",
       "    <tr style=\"text-align: right;\">\n",
       "      <th></th>\n",
       "      <th>date</th>\n",
       "      <th>avg daily temp</th>\n",
       "      <th>daily precip</th>\n",
       "      <th>daily precipcover</th>\n",
       "      <th>rainfall hours</th>\n",
       "      <th>avg precip (mm/h)</th>\n",
       "      <th>flood_likelihood</th>\n",
       "    </tr>\n",
       "  </thead>\n",
       "  <tbody>\n",
       "    <tr>\n",
       "      <th>0</th>\n",
       "      <td>2023-01-01</td>\n",
       "      <td>27.104</td>\n",
       "      <td>0.0</td>\n",
       "      <td>0.0</td>\n",
       "      <td>0.0</td>\n",
       "      <td>0.0</td>\n",
       "      <td>False</td>\n",
       "    </tr>\n",
       "    <tr>\n",
       "      <th>1</th>\n",
       "      <td>2023-01-02</td>\n",
       "      <td>27.048</td>\n",
       "      <td>0.0</td>\n",
       "      <td>0.0</td>\n",
       "      <td>0.0</td>\n",
       "      <td>0.0</td>\n",
       "      <td>False</td>\n",
       "    </tr>\n",
       "    <tr>\n",
       "      <th>2</th>\n",
       "      <td>2023-01-03</td>\n",
       "      <td>27.272</td>\n",
       "      <td>0.0</td>\n",
       "      <td>0.0</td>\n",
       "      <td>0.0</td>\n",
       "      <td>0.0</td>\n",
       "      <td>False</td>\n",
       "    </tr>\n",
       "  </tbody>\n",
       "</table>\n",
       "</div>"
      ],
      "text/plain": [
       "        date  avg daily temp  daily precip  daily precipcover  rainfall hours  \\\n",
       "0 2023-01-01          27.104           0.0                0.0             0.0   \n",
       "1 2023-01-02          27.048           0.0                0.0             0.0   \n",
       "2 2023-01-03          27.272           0.0                0.0             0.0   \n",
       "\n",
       "   avg precip (mm/h)  flood_likelihood  \n",
       "0                0.0             False  \n",
       "1                0.0             False  \n",
       "2                0.0             False  "
      ]
     },
     "execution_count": 10,
     "metadata": {},
     "output_type": "execute_result"
    }
   ],
   "source": [
    "# Function to determine flood likelihood\n",
    "def assess_flood_likelihood(row):\n",
    "    avg_precip = row['avg precip (mm/h)']\n",
    "    rainfall_hours = row['rainfall hours']\n",
    "    \n",
    "    if avg_precip >= 10 and rainfall_hours >= 1:\n",
    "        return True\n",
    "    elif avg_precip >= 2.5 and rainfall_hours >= 10:\n",
    "        return True\n",
    "    elif avg_precip >= 1.5 and rainfall_hours >= 15:\n",
    "        return True\n",
    "    else:\n",
    "        return False\n",
    "\n",
    "# Apply the function to create the new column\n",
    "data3['flood_likelihood'] = data3.apply(assess_flood_likelihood, axis=1)\n",
    "data3.head(3)"
   ]
  },
  {
   "cell_type": "code",
   "execution_count": 11,
   "id": "f61ab9dc-87f1-4758-8940-f0e375530555",
   "metadata": {},
   "outputs": [
    {
     "data": {
      "text/plain": [
       "flood_likelihood\n",
       "False    489\n",
       "True      65\n",
       "Name: count, dtype: int64"
      ]
     },
     "execution_count": 11,
     "metadata": {},
     "output_type": "execute_result"
    }
   ],
   "source": [
    "data3['flood_likelihood'].value_counts()"
   ]
  },
  {
   "cell_type": "markdown",
   "id": "0a4e622d-392e-4750-8775-7f7a3f830049",
   "metadata": {},
   "source": [
    "#### Dropping some columns and only keeping the needed ones for the prediction model"
   ]
  },
  {
   "cell_type": "code",
   "execution_count": 12,
   "id": "f928262c-2a5b-4358-9615-425678b7882c",
   "metadata": {},
   "outputs": [
    {
     "data": {
      "text/html": [
       "<div>\n",
       "<style scoped>\n",
       "    .dataframe tbody tr th:only-of-type {\n",
       "        vertical-align: middle;\n",
       "    }\n",
       "\n",
       "    .dataframe tbody tr th {\n",
       "        vertical-align: top;\n",
       "    }\n",
       "\n",
       "    .dataframe thead th {\n",
       "        text-align: right;\n",
       "    }\n",
       "</style>\n",
       "<table border=\"1\" class=\"dataframe\">\n",
       "  <thead>\n",
       "    <tr style=\"text-align: right;\">\n",
       "      <th></th>\n",
       "      <th>avg daily temp</th>\n",
       "      <th>rainfall hours</th>\n",
       "      <th>avg precip (mm/h)</th>\n",
       "      <th>flood_likelihood</th>\n",
       "    </tr>\n",
       "    <tr>\n",
       "      <th>date</th>\n",
       "      <th></th>\n",
       "      <th></th>\n",
       "      <th></th>\n",
       "      <th></th>\n",
       "    </tr>\n",
       "  </thead>\n",
       "  <tbody>\n",
       "    <tr>\n",
       "      <th>2023-01-01</th>\n",
       "      <td>27.104</td>\n",
       "      <td>0.0</td>\n",
       "      <td>0.0</td>\n",
       "      <td>False</td>\n",
       "    </tr>\n",
       "    <tr>\n",
       "      <th>2023-01-02</th>\n",
       "      <td>27.048</td>\n",
       "      <td>0.0</td>\n",
       "      <td>0.0</td>\n",
       "      <td>False</td>\n",
       "    </tr>\n",
       "    <tr>\n",
       "      <th>2023-01-03</th>\n",
       "      <td>27.272</td>\n",
       "      <td>0.0</td>\n",
       "      <td>0.0</td>\n",
       "      <td>False</td>\n",
       "    </tr>\n",
       "  </tbody>\n",
       "</table>\n",
       "</div>"
      ],
      "text/plain": [
       "            avg daily temp  rainfall hours  avg precip (mm/h)  \\\n",
       "date                                                            \n",
       "2023-01-01          27.104             0.0                0.0   \n",
       "2023-01-02          27.048             0.0                0.0   \n",
       "2023-01-03          27.272             0.0                0.0   \n",
       "\n",
       "            flood_likelihood  \n",
       "date                          \n",
       "2023-01-01             False  \n",
       "2023-01-02             False  \n",
       "2023-01-03             False  "
      ]
     },
     "execution_count": 12,
     "metadata": {},
     "output_type": "execute_result"
    }
   ],
   "source": [
    "data4 = data3.copy()\n",
    "\n",
    "data4.drop(['daily precip', 'daily precipcover'], axis =1, inplace=True)\n",
    "\n",
    "#setting the date column as index for easy visualization\n",
    "data4.set_index('date', inplace=True)\n",
    "data4.head(3)"
   ]
  },
  {
   "cell_type": "code",
   "execution_count": 13,
   "id": "a22cc03b-0d54-4b75-b30f-4b9f9cace3ac",
   "metadata": {},
   "outputs": [
    {
     "data": {
      "text/html": [
       "<div>\n",
       "<style scoped>\n",
       "    .dataframe tbody tr th:only-of-type {\n",
       "        vertical-align: middle;\n",
       "    }\n",
       "\n",
       "    .dataframe tbody tr th {\n",
       "        vertical-align: top;\n",
       "    }\n",
       "\n",
       "    .dataframe thead th {\n",
       "        text-align: right;\n",
       "    }\n",
       "</style>\n",
       "<table border=\"1\" class=\"dataframe\">\n",
       "  <thead>\n",
       "    <tr style=\"text-align: right;\">\n",
       "      <th></th>\n",
       "      <th>avg daily temp</th>\n",
       "      <th>avg precip (mm/h)</th>\n",
       "      <th>rainfall hours</th>\n",
       "      <th>flood_likelihood</th>\n",
       "    </tr>\n",
       "    <tr>\n",
       "      <th>date</th>\n",
       "      <th></th>\n",
       "      <th></th>\n",
       "      <th></th>\n",
       "      <th></th>\n",
       "    </tr>\n",
       "  </thead>\n",
       "  <tbody>\n",
       "    <tr>\n",
       "      <th>2023-01-01</th>\n",
       "      <td>27.104</td>\n",
       "      <td>0.0</td>\n",
       "      <td>0.0</td>\n",
       "      <td>False</td>\n",
       "    </tr>\n",
       "    <tr>\n",
       "      <th>2023-01-02</th>\n",
       "      <td>27.048</td>\n",
       "      <td>0.0</td>\n",
       "      <td>0.0</td>\n",
       "      <td>False</td>\n",
       "    </tr>\n",
       "    <tr>\n",
       "      <th>2023-01-03</th>\n",
       "      <td>27.272</td>\n",
       "      <td>0.0</td>\n",
       "      <td>0.0</td>\n",
       "      <td>False</td>\n",
       "    </tr>\n",
       "  </tbody>\n",
       "</table>\n",
       "</div>"
      ],
      "text/plain": [
       "            avg daily temp  avg precip (mm/h)  rainfall hours  \\\n",
       "date                                                            \n",
       "2023-01-01          27.104                0.0             0.0   \n",
       "2023-01-02          27.048                0.0             0.0   \n",
       "2023-01-03          27.272                0.0             0.0   \n",
       "\n",
       "            flood_likelihood  \n",
       "date                          \n",
       "2023-01-01             False  \n",
       "2023-01-02             False  \n",
       "2023-01-03             False  "
      ]
     },
     "execution_count": 13,
     "metadata": {},
     "output_type": "execute_result"
    }
   ],
   "source": [
    "#Rearranging the columns\n",
    "\n",
    "data4 = data4[['avg daily temp', 'avg precip (mm/h)', 'rainfall hours', 'flood_likelihood']]\n",
    "data4.head(3)"
   ]
  },
  {
   "cell_type": "markdown",
   "id": "133eadb9-f863-490a-9dcb-88273d75fcfd",
   "metadata": {},
   "source": [
    "#### Finding correlation between variables\n",
    "\n",
    "In the process of predicting flood events in Lagos, a crucial step was to identify the relationships between various weather-related variables. Using statistical methods, the data was analyzed to find correlations between different factors such as average precipitation per hour, total rainfall, and duration. "
   ]
  },
  {
   "cell_type": "code",
   "execution_count": 14,
   "id": "5d52f7c8-5791-429f-932f-b16ab8773fe0",
   "metadata": {},
   "outputs": [
    {
     "data": {
      "text/plain": [
       "<Axes: >"
      ]
     },
     "execution_count": 14,
     "metadata": {},
     "output_type": "execute_result"
    },
    {
     "data": {
      "image/png": "[encoded data removed]",
      "text/plain": [
       "<Figure size 500x200 with 2 Axes>"
      ]
     },
     "metadata": {},
     "output_type": "display_data"
    }
   ],
   "source": [
    "plt.figure(figsize=(5, 2))\n",
    "corr_matrix2 = data4.corr()\n",
    "sb.heatmap(corr_matrix2, cmap = \"Blues\",  annot=True)"
   ]
  },
  {
   "cell_type": "code",
   "execution_count": 15,
   "id": "0c7d74cc-e765-448f-9513-9302598fe489",
   "metadata": {},
   "outputs": [
    {
     "data": {
      "text/plain": [
       "avg daily temp      -0.322771\n",
       "avg precip (mm/h)    0.785903\n",
       "rainfall hours       0.071319\n",
       "flood_likelihood     1.000000\n",
       "Name: flood_likelihood, dtype: float64"
      ]
     },
     "execution_count": 15,
     "metadata": {},
     "output_type": "execute_result"
    }
   ],
   "source": [
    "corr_matrix2[\"flood_likelihood\"]"
   ]
  },
  {
   "cell_type": "markdown",
   "id": "799ad656-7e84-4aef-8655-72f51f25cb31",
   "metadata": {},
   "source": [
    "By applying Pearson correlation analysis, a significant positive correlation between average precipitation per hour and the likelihood of flooding was discovered. This means that as the average precipitation per hour increases, the probability of flooding also rises.\n",
    "\n",
    "This finding underscores the importance of monitoring hourly precipitation rates as a key indicator for flood warnings. Understanding this correlation allows for more accurate predictions and helps in developing better preparedness strategies for flood-prone areas in Lagos"
   ]
  },
  {
   "cell_type": "markdown",
   "id": "3bd54a1f-1cb0-473c-8572-1e6d7cff21ab",
   "metadata": {},
   "source": [
    "## Building the flood prediction model"
   ]
  },
  {
   "cell_type": "markdown",
   "id": "120dbd5b-b994-4007-8b39-58f7afffa5fe",
   "metadata": {},
   "source": [
    "#### Dividing the data into X(predictors) and Y(target) Variables"
   ]
  },
  {
   "cell_type": "code",
   "execution_count": 16,
   "id": "2e9a55f7-440e-4e28-9839-1e7d5fdcd3de",
   "metadata": {},
   "outputs": [
    {
     "data": {
      "text/plain": [
       "array([[27.104,  0.   ,  0.   ],\n",
       "       [27.048,  0.   ,  0.   ],\n",
       "       [27.272,  0.   ,  0.   ],\n",
       "       ...,\n",
       "       [27.72 ,  0.35 , 11.   ],\n",
       "       [27.608,  0.35 , 11.   ],\n",
       "       [27.496,  0.91 , 17.   ]])"
      ]
     },
     "execution_count": 16,
     "metadata": {},
     "output_type": "execute_result"
    }
   ],
   "source": [
    "X = data4.iloc[:, 0:3].values\n",
    "X"
   ]
  },
  {
   "cell_type": "code",
   "execution_count": 17,
   "id": "0532640d-16db-4f59-be79-b65b49b1a8a9",
   "metadata": {
    "scrolled": true
   },
   "outputs": [],
   "source": [
    "#Encoding the values in the target column and storing the result in variable Y\n",
    "from sklearn.preprocessing import LabelEncoder as LE\n",
    "\n",
    "Y = data4['flood_likelihood']=LE().fit_transform(data4['flood_likelihood'])\n",
    "\n",
    "#reshaping variable Y\n",
    "y = Y.reshape(-1, 1)"
   ]
  },
  {
   "cell_type": "markdown",
   "id": "6158a156-e93c-45fd-8d3a-79c4cf8208cb",
   "metadata": {},
   "source": [
    "#### Splitting the data into train and test data"
   ]
  },
  {
   "cell_type": "code",
   "execution_count": 18,
   "id": "45a906cd-9227-4e74-8231-fd8284e42695",
   "metadata": {},
   "outputs": [
    {
     "name": "stdout",
     "output_type": "stream",
     "text": [
      "Length of train data:  443 Length of test data:  111\n"
     ]
    }
   ],
   "source": [
    "from sklearn.model_selection import train_test_split\n",
    "\n",
    "x_train,x_test,y_train,y_test=train_test_split(X,y,test_size=0.2)\n",
    "\n",
    "print(\"Length of train data: \", len(x_train), \"Length of test data: \", len(x_test))"
   ]
  },
  {
   "cell_type": "markdown",
   "id": "d31cbefe-fc63-4409-a86a-d88a19d80106",
   "metadata": {},
   "source": [
    "#### Importing Logistic Regression model"
   ]
  },
  {
   "cell_type": "code",
   "execution_count": 19,
   "id": "0f36d705-0939-44cf-a9d6-665156b1d8d4",
   "metadata": {},
   "outputs": [],
   "source": [
    "from sklearn.linear_model import LogisticRegression"
   ]
  },
  {
   "cell_type": "markdown",
   "id": "482adb7a-5f9f-4d9e-aae8-c7f52fbedb04",
   "metadata": {},
   "source": [
    "##### Training and evaluating the model"
   ]
  },
  {
   "cell_type": "code",
   "execution_count": 20,
   "id": "ec441a24-eda0-4274-89ec-235f41090bf7",
   "metadata": {},
   "outputs": [
    {
     "name": "stdout",
     "output_type": "stream",
     "text": [
      "Accuracy Score: 100.0\n"
     ]
    }
   ],
   "source": [
    "# Initialize the logistic regression model\n",
    "model=LogisticRegression()\n",
    "\n",
    "# Train the model\n",
    "model.fit(x_train, y_train)\n",
    "\n",
    "# Make predictions\n",
    "y_pred = model.predict(x_test)\n",
    "\n",
    "# Evaluate the model\n",
    "from sklearn.metrics import accuracy_score, confusion_matrix, classification_report\n",
    "\n",
    "accuracy = accuracy_score(y_test, y_pred) #accuracy score\n",
    "conf_matrix = confusion_matrix(y_test, y_pred, labels=[0,1]) #confusion matrix\n",
    "\n",
    "print(\"Accuracy Score:\", round(accuracy * 100, 2))"
   ]
  },
  {
   "cell_type": "markdown",
   "id": "eee4a100-bd89-4849-916d-c993fdd99140",
   "metadata": {},
   "source": [
    "##### plotting the confusion matrix, to see how many times the model predicted right or wrong"
   ]
  },
  {
   "cell_type": "code",
   "execution_count": 21,
   "id": "b57cb997-0aa8-4cc4-9501-454d147e812e",
   "metadata": {},
   "outputs": [
    {
     "data": {
      "text/plain": [
       "Text(0.5, 1.0, 'Confusion Matrix')"
      ]
     },
     "execution_count": 21,
     "metadata": {},
     "output_type": "execute_result"
    },
    {
     "data": {
      "image/png": "[encoded data removed]",
      "text/plain": [
       "<Figure size 500x200 with 2 Axes>"
      ]
     },
     "metadata": {},
     "output_type": "display_data"
    }
   ],
   "source": [
    "# Set the size of the figure\n",
    "plt.figure(figsize=(5, 2))\n",
    "sb.heatmap(conf_matrix, cmap=\"Blues\", annot=True)\n",
    "plt.xlabel(\"Predicted\")\n",
    "plt.ylabel(\"Actual\")\n",
    "plt.title(\"Confusion Matrix\")"
   ]
  },
  {
   "cell_type": "markdown",
   "id": "98286134-3981-4737-bc5d-ed68f685340d",
   "metadata": {},
   "source": [
    "## Predicting the likelihood of flood in Lagos for the next two weeks (8 July - 21 July)\n",
    "\n",
    "In this phase, using the weather forcast data from the site, we are going to predict the likely date of the next flood."
   ]
  },
  {
   "cell_type": "markdown",
   "id": "f81af185-5bea-4ea3-8487-1c180967e985",
   "metadata": {},
   "source": [
    "### Importing the data"
   ]
  },
  {
   "cell_type": "code",
   "execution_count": 22,
   "id": "ed8ef6db-fefb-4bb4-8703-acfdc1e111e8",
   "metadata": {},
   "outputs": [
    {
     "data": {
      "text/html": [
       "<div>\n",
       "<style scoped>\n",
       "    .dataframe tbody tr th:only-of-type {\n",
       "        vertical-align: middle;\n",
       "    }\n",
       "\n",
       "    .dataframe tbody tr th {\n",
       "        vertical-align: top;\n",
       "    }\n",
       "\n",
       "    .dataframe thead th {\n",
       "        text-align: right;\n",
       "    }\n",
       "</style>\n",
       "<table border=\"1\" class=\"dataframe\">\n",
       "  <thead>\n",
       "    <tr style=\"text-align: right;\">\n",
       "      <th></th>\n",
       "      <th>name</th>\n",
       "      <th>datetime</th>\n",
       "      <th>tempmax</th>\n",
       "      <th>tempmin</th>\n",
       "      <th>temp</th>\n",
       "      <th>feelslikemax</th>\n",
       "      <th>feelslikemin</th>\n",
       "      <th>feelslike</th>\n",
       "      <th>dew</th>\n",
       "      <th>humidity</th>\n",
       "      <th>...</th>\n",
       "      <th>solarenergy</th>\n",
       "      <th>uvindex</th>\n",
       "      <th>severerisk</th>\n",
       "      <th>sunrise</th>\n",
       "      <th>sunset</th>\n",
       "      <th>moonphase</th>\n",
       "      <th>conditions</th>\n",
       "      <th>description</th>\n",
       "      <th>icon</th>\n",
       "      <th>stations</th>\n",
       "    </tr>\n",
       "  </thead>\n",
       "  <tbody>\n",
       "    <tr>\n",
       "      <th>0</th>\n",
       "      <td>Lagos</td>\n",
       "      <td>08/07/2024</td>\n",
       "      <td>80.5</td>\n",
       "      <td>77.4</td>\n",
       "      <td>79.4</td>\n",
       "      <td>86.9</td>\n",
       "      <td>77.4</td>\n",
       "      <td>81.5</td>\n",
       "      <td>75.3</td>\n",
       "      <td>87.6</td>\n",
       "      <td>...</td>\n",
       "      <td>14.5</td>\n",
       "      <td>7.0</td>\n",
       "      <td>10.0</td>\n",
       "      <td>2024-07-08T06:37:21</td>\n",
       "      <td>2024-07-08T19:05:59</td>\n",
       "      <td>0.08</td>\n",
       "      <td>Rain, Partially cloudy</td>\n",
       "      <td>Partly cloudy throughout the day with a chance...</td>\n",
       "      <td>rain</td>\n",
       "      <td>DNMM,remote</td>\n",
       "    </tr>\n",
       "    <tr>\n",
       "      <th>1</th>\n",
       "      <td>Lagos</td>\n",
       "      <td>09/07/2024</td>\n",
       "      <td>79.2</td>\n",
       "      <td>77.1</td>\n",
       "      <td>78.3</td>\n",
       "      <td>79.2</td>\n",
       "      <td>77.1</td>\n",
       "      <td>78.3</td>\n",
       "      <td>72.6</td>\n",
       "      <td>82.6</td>\n",
       "      <td>...</td>\n",
       "      <td>21.7</td>\n",
       "      <td>9.0</td>\n",
       "      <td>10.0</td>\n",
       "      <td>2024-07-09T06:37:34</td>\n",
       "      <td>2024-07-09T19:06:04</td>\n",
       "      <td>0.11</td>\n",
       "      <td>Rain, Partially cloudy</td>\n",
       "      <td>Partly cloudy throughout the day with a chance...</td>\n",
       "      <td>rain</td>\n",
       "      <td>NaN</td>\n",
       "    </tr>\n",
       "    <tr>\n",
       "      <th>2</th>\n",
       "      <td>Lagos</td>\n",
       "      <td>10/07/2024</td>\n",
       "      <td>79.4</td>\n",
       "      <td>76.4</td>\n",
       "      <td>78.1</td>\n",
       "      <td>79.4</td>\n",
       "      <td>76.4</td>\n",
       "      <td>78.1</td>\n",
       "      <td>73.0</td>\n",
       "      <td>84.2</td>\n",
       "      <td>...</td>\n",
       "      <td>20.4</td>\n",
       "      <td>9.0</td>\n",
       "      <td>10.0</td>\n",
       "      <td>2024-07-10T06:37:47</td>\n",
       "      <td>2024-07-10T19:06:08</td>\n",
       "      <td>0.15</td>\n",
       "      <td>Rain, Partially cloudy</td>\n",
       "      <td>Partly cloudy throughout the day with a chance...</td>\n",
       "      <td>rain</td>\n",
       "      <td>NaN</td>\n",
       "    </tr>\n",
       "  </tbody>\n",
       "</table>\n",
       "<p>3 rows × 33 columns</p>\n",
       "</div>"
      ],
      "text/plain": [
       "    name    datetime  tempmax  tempmin  temp  feelslikemax  feelslikemin  \\\n",
       "0  Lagos  08/07/2024     80.5     77.4  79.4          86.9          77.4   \n",
       "1  Lagos  09/07/2024     79.2     77.1  78.3          79.2          77.1   \n",
       "2  Lagos  10/07/2024     79.4     76.4  78.1          79.4          76.4   \n",
       "\n",
       "   feelslike   dew  humidity  ...  solarenergy  uvindex  severerisk  \\\n",
       "0       81.5  75.3      87.6  ...         14.5      7.0        10.0   \n",
       "1       78.3  72.6      82.6  ...         21.7      9.0        10.0   \n",
       "2       78.1  73.0      84.2  ...         20.4      9.0        10.0   \n",
       "\n",
       "               sunrise               sunset  moonphase  \\\n",
       "0  2024-07-08T06:37:21  2024-07-08T19:05:59       0.08   \n",
       "1  2024-07-09T06:37:34  2024-07-09T19:06:04       0.11   \n",
       "2  2024-07-10T06:37:47  2024-07-10T19:06:08       0.15   \n",
       "\n",
       "               conditions                                        description  \\\n",
       "0  Rain, Partially cloudy  Partly cloudy throughout the day with a chance...   \n",
       "1  Rain, Partially cloudy  Partly cloudy throughout the day with a chance...   \n",
       "2  Rain, Partially cloudy  Partly cloudy throughout the day with a chance...   \n",
       "\n",
       "   icon     stations  \n",
       "0  rain  DNMM,remote  \n",
       "1  rain          NaN  \n",
       "2  rain          NaN  \n",
       "\n",
       "[3 rows x 33 columns]"
      ]
     },
     "execution_count": 22,
     "metadata": {},
     "output_type": "execute_result"
    }
   ],
   "source": [
    "# Load the data with date parsing\n",
    "forc_data1 = pd.read_csv(\"Lagos 2024-07-08 to 2024-08-08.csv\")\n",
    "forc_data1.head(3)"
   ]
  },
  {
   "cell_type": "markdown",
   "id": "da50e396-1e47-4064-bc37-da284f53f9a9",
   "metadata": {},
   "source": [
    "### Data Preprocessing\n",
    "\n",
    "Cleaning and transforming the forecast data like how we did the historical data"
   ]
  },
  {
   "cell_type": "code",
   "execution_count": 23,
   "id": "e26b70a9-8815-44a4-b3de-6514743a2a3f",
   "metadata": {},
   "outputs": [
    {
     "data": {
      "text/html": [
       "<div>\n",
       "<style scoped>\n",
       "    .dataframe tbody tr th:only-of-type {\n",
       "        vertical-align: middle;\n",
       "    }\n",
       "\n",
       "    .dataframe tbody tr th {\n",
       "        vertical-align: top;\n",
       "    }\n",
       "\n",
       "    .dataframe thead th {\n",
       "        text-align: right;\n",
       "    }\n",
       "</style>\n",
       "<table border=\"1\" class=\"dataframe\">\n",
       "  <thead>\n",
       "    <tr style=\"text-align: right;\">\n",
       "      <th></th>\n",
       "      <th>avg daily temp</th>\n",
       "      <th>avg precip (mm/h)</th>\n",
       "      <th>rainfall hours</th>\n",
       "    </tr>\n",
       "    <tr>\n",
       "      <th>date</th>\n",
       "      <th></th>\n",
       "      <th></th>\n",
       "      <th></th>\n",
       "    </tr>\n",
       "  </thead>\n",
       "  <tbody>\n",
       "    <tr>\n",
       "      <th>08/07/2024</th>\n",
       "      <td>26.544</td>\n",
       "      <td>1.33</td>\n",
       "      <td>17.0</td>\n",
       "    </tr>\n",
       "    <tr>\n",
       "      <th>09/07/2024</th>\n",
       "      <td>25.928</td>\n",
       "      <td>0.60</td>\n",
       "      <td>19.0</td>\n",
       "    </tr>\n",
       "    <tr>\n",
       "      <th>10/07/2024</th>\n",
       "      <td>25.816</td>\n",
       "      <td>0.43</td>\n",
       "      <td>19.0</td>\n",
       "    </tr>\n",
       "  </tbody>\n",
       "</table>\n",
       "</div>"
      ],
      "text/plain": [
       "            avg daily temp  avg precip (mm/h)  rainfall hours\n",
       "date                                                         \n",
       "08/07/2024          26.544               1.33            17.0\n",
       "09/07/2024          25.928               0.60            19.0\n",
       "10/07/2024          25.816               0.43            19.0"
      ]
     },
     "execution_count": 23,
     "metadata": {},
     "output_type": "execute_result"
    }
   ],
   "source": [
    "#Dropping some columns\n",
    "forc_data2 = forc_data1.drop(['name', 'tempmax', 'tempmin', 'feelslikemax',\n",
    "       'feelslikemin', 'feelslike', 'dew', 'humidity', 'precipprob', 'preciptype', 'snow', 'snowdepth', 'windgust',\n",
    "       'windspeed', 'winddir', 'sealevelpressure', 'cloudcover', 'visibility',\n",
    "       'solarradiation', 'solarenergy', 'uvindex', 'severerisk', 'sunrise',\n",
    "       'sunset', 'moonphase', 'conditions', 'description', 'icon', 'stations'], axis = 1)\n",
    "\n",
    "#Renaming columns for better understanding\n",
    "forc_data2 = forc_data2.rename(columns={\n",
    "    'datetime': 'date',\n",
    "    'temp': 'avg daily temp',\n",
    "    'precip': 'daily precip',\n",
    "    'precipcover': 'daily precipcover'\n",
    "})\n",
    "\n",
    "#standardizing daily precip and avg daily temp columns\n",
    "# converting the values in the precip column from inches to millimeters\n",
    "forc_data3 = forc_data2.copy()\n",
    "forc_data3['daily precip'] = forc_data3['daily precip'] * 25.4\n",
    "\n",
    "# converting the values in the temp column from degree Fahrenheit (℉) to degree Celsius (℃)\n",
    "forc_data3['avg daily temp'] = 0.56 * (forc_data3['avg daily temp'] - 32)\n",
    "\n",
    "#Creating new columns for the prediction model\n",
    "#Hours of measureable rain (within a 24-hour period)\n",
    "forc_data3['rainfall hours'] = round(0.24 * forc_data3['daily precipcover'],0)\n",
    "\n",
    "# Average precip per hour\n",
    "forc_data3['avg precip (mm/h)'] = round(forc_data3['daily precip']/forc_data3['rainfall hours'], 2)\n",
    "\n",
    "#finalising data preprocessing\n",
    "forc_data4 = forc_data3.copy()\n",
    "\n",
    "#Dropping columns not needed to build the model\n",
    "forc_data4.drop(['daily precip', 'daily precipcover'], axis =1, inplace=True)\n",
    "\n",
    "#setting the date column as index for easy visualization\n",
    "forc_data4.set_index('date', inplace=True)\n",
    "\n",
    "#rearranging columns\n",
    "forc_data4 = forc_data4[['avg daily temp', 'avg precip (mm/h)', 'rainfall hours']]\n",
    "forc_data4.head(3)"
   ]
  },
  {
   "cell_type": "markdown",
   "id": "7ce70cad-9215-456f-9a21-29fca988eddb",
   "metadata": {},
   "source": [
    "### Data Information"
   ]
  },
  {
   "cell_type": "code",
   "execution_count": 24,
   "id": "f4fbe94c-df80-408e-aabb-794a52895b27",
   "metadata": {},
   "outputs": [
    {
     "name": "stdout",
     "output_type": "stream",
     "text": [
      "<class 'pandas.core.frame.DataFrame'>\n",
      "Index: 32 entries, 08/07/2024 to nan\n",
      "Data columns (total 3 columns):\n",
      " #   Column             Non-Null Count  Dtype  \n",
      "---  ------             --------------  -----  \n",
      " 0   avg daily temp     14 non-null     float64\n",
      " 1   avg precip (mm/h)  14 non-null     float64\n",
      " 2   rainfall hours     14 non-null     float64\n",
      "dtypes: float64(3)\n",
      "memory usage: 1.0+ KB\n"
     ]
    }
   ],
   "source": [
    "forc_data4.info()"
   ]
  },
  {
   "cell_type": "code",
   "execution_count": 25,
   "id": "e4ef3327-ce93-45d5-bfbc-acaa0c97b514",
   "metadata": {},
   "outputs": [
    {
     "data": {
      "text/html": [
       "<div>\n",
       "<style scoped>\n",
       "    .dataframe tbody tr th:only-of-type {\n",
       "        vertical-align: middle;\n",
       "    }\n",
       "\n",
       "    .dataframe tbody tr th {\n",
       "        vertical-align: top;\n",
       "    }\n",
       "\n",
       "    .dataframe thead th {\n",
       "        text-align: right;\n",
       "    }\n",
       "</style>\n",
       "<table border=\"1\" class=\"dataframe\">\n",
       "  <thead>\n",
       "    <tr style=\"text-align: right;\">\n",
       "      <th></th>\n",
       "      <th>avg daily temp</th>\n",
       "      <th>avg precip (mm/h)</th>\n",
       "      <th>rainfall hours</th>\n",
       "    </tr>\n",
       "    <tr>\n",
       "      <th>date</th>\n",
       "      <th></th>\n",
       "      <th></th>\n",
       "      <th></th>\n",
       "    </tr>\n",
       "  </thead>\n",
       "  <tbody>\n",
       "    <tr>\n",
       "      <th>08/07/2024</th>\n",
       "      <td>26.544</td>\n",
       "      <td>1.33</td>\n",
       "      <td>17.0</td>\n",
       "    </tr>\n",
       "    <tr>\n",
       "      <th>09/07/2024</th>\n",
       "      <td>25.928</td>\n",
       "      <td>0.60</td>\n",
       "      <td>19.0</td>\n",
       "    </tr>\n",
       "    <tr>\n",
       "      <th>10/07/2024</th>\n",
       "      <td>25.816</td>\n",
       "      <td>0.43</td>\n",
       "      <td>19.0</td>\n",
       "    </tr>\n",
       "    <tr>\n",
       "      <th>11/07/2024</th>\n",
       "      <td>25.480</td>\n",
       "      <td>0.58</td>\n",
       "      <td>21.0</td>\n",
       "    </tr>\n",
       "    <tr>\n",
       "      <th>12/07/2024</th>\n",
       "      <td>25.200</td>\n",
       "      <td>1.15</td>\n",
       "      <td>24.0</td>\n",
       "    </tr>\n",
       "    <tr>\n",
       "      <th>13/07/2024</th>\n",
       "      <td>25.928</td>\n",
       "      <td>0.26</td>\n",
       "      <td>11.0</td>\n",
       "    </tr>\n",
       "    <tr>\n",
       "      <th>14/07/2024</th>\n",
       "      <td>25.928</td>\n",
       "      <td>0.55</td>\n",
       "      <td>6.0</td>\n",
       "    </tr>\n",
       "    <tr>\n",
       "      <th>15/07/2024</th>\n",
       "      <td>25.928</td>\n",
       "      <td>0.13</td>\n",
       "      <td>7.0</td>\n",
       "    </tr>\n",
       "    <tr>\n",
       "      <th>16/07/2024</th>\n",
       "      <td>25.704</td>\n",
       "      <td>0.51</td>\n",
       "      <td>8.0</td>\n",
       "    </tr>\n",
       "    <tr>\n",
       "      <th>17/07/2024</th>\n",
       "      <td>25.648</td>\n",
       "      <td>0.47</td>\n",
       "      <td>6.0</td>\n",
       "    </tr>\n",
       "    <tr>\n",
       "      <th>18/07/2024</th>\n",
       "      <td>25.816</td>\n",
       "      <td>0.18</td>\n",
       "      <td>4.0</td>\n",
       "    </tr>\n",
       "    <tr>\n",
       "      <th>19/07/2024</th>\n",
       "      <td>25.928</td>\n",
       "      <td>0.10</td>\n",
       "      <td>4.0</td>\n",
       "    </tr>\n",
       "    <tr>\n",
       "      <th>20/07/2024</th>\n",
       "      <td>25.816</td>\n",
       "      <td>0.29</td>\n",
       "      <td>6.0</td>\n",
       "    </tr>\n",
       "    <tr>\n",
       "      <th>21/07/2024</th>\n",
       "      <td>25.760</td>\n",
       "      <td>0.14</td>\n",
       "      <td>6.0</td>\n",
       "    </tr>\n",
       "  </tbody>\n",
       "</table>\n",
       "</div>"
      ],
      "text/plain": [
       "            avg daily temp  avg precip (mm/h)  rainfall hours\n",
       "date                                                         \n",
       "08/07/2024          26.544               1.33            17.0\n",
       "09/07/2024          25.928               0.60            19.0\n",
       "10/07/2024          25.816               0.43            19.0\n",
       "11/07/2024          25.480               0.58            21.0\n",
       "12/07/2024          25.200               1.15            24.0\n",
       "13/07/2024          25.928               0.26            11.0\n",
       "14/07/2024          25.928               0.55             6.0\n",
       "15/07/2024          25.928               0.13             7.0\n",
       "16/07/2024          25.704               0.51             8.0\n",
       "17/07/2024          25.648               0.47             6.0\n",
       "18/07/2024          25.816               0.18             4.0\n",
       "19/07/2024          25.928               0.10             4.0\n",
       "20/07/2024          25.816               0.29             6.0\n",
       "21/07/2024          25.760               0.14             6.0"
      ]
     },
     "execution_count": 25,
     "metadata": {},
     "output_type": "execute_result"
    }
   ],
   "source": [
    "#Dropping null rows\n",
    "\n",
    "forc_data4.dropna(inplace=True)\n",
    "forc_data4"
   ]
  },
  {
   "cell_type": "markdown",
   "id": "593f66d2-e7e2-4bc2-8b95-00ddbba77d64",
   "metadata": {},
   "source": [
    "### Getting the X(predictors) variables"
   ]
  },
  {
   "cell_type": "code",
   "execution_count": 26,
   "id": "7b1f79cf-d640-47b7-a724-77f9b5519a59",
   "metadata": {},
   "outputs": [
    {
     "data": {
      "text/plain": [
       "array([[26.544,  1.33 , 17.   ],\n",
       "       [25.928,  0.6  , 19.   ],\n",
       "       [25.816,  0.43 , 19.   ],\n",
       "       [25.48 ,  0.58 , 21.   ],\n",
       "       [25.2  ,  1.15 , 24.   ],\n",
       "       [25.928,  0.26 , 11.   ],\n",
       "       [25.928,  0.55 ,  6.   ],\n",
       "       [25.928,  0.13 ,  7.   ],\n",
       "       [25.704,  0.51 ,  8.   ],\n",
       "       [25.648,  0.47 ,  6.   ],\n",
       "       [25.816,  0.18 ,  4.   ],\n",
       "       [25.928,  0.1  ,  4.   ],\n",
       "       [25.816,  0.29 ,  6.   ],\n",
       "       [25.76 ,  0.14 ,  6.   ]])"
      ]
     },
     "execution_count": 26,
     "metadata": {},
     "output_type": "execute_result"
    }
   ],
   "source": [
    "predictors= forc_data4.iloc[:,:].values\n",
    "predictors"
   ]
  },
  {
   "cell_type": "markdown",
   "id": "8ed11150-67ad-4178-bcf1-9c89e6a23eee",
   "metadata": {},
   "source": [
    "### Predicting flood likelihood using the Logistic Regression Flood Prediction model"
   ]
  },
  {
   "cell_type": "code",
   "execution_count": 27,
   "id": "c35cb6ee-c590-4b7d-a5c5-55e07819dba8",
   "metadata": {},
   "outputs": [
    {
     "data": {
      "text/plain": [
       "array([0, 0, 0, 0, 1, 0, 0, 0, 0, 0, 0, 0, 0, 0])"
      ]
     },
     "execution_count": 27,
     "metadata": {},
     "output_type": "execute_result"
    }
   ],
   "source": [
    "# Make predictions\n",
    "future_flood_pred = model.predict(predictors)\n",
    "\n",
    "future_flood_pred"
   ]
  },
  {
   "cell_type": "markdown",
   "id": "a705401f-0b34-46df-97bb-f4ce66abacbb",
   "metadata": {},
   "source": [
    "#### Adding the prediction to the data"
   ]
  },
  {
   "cell_type": "code",
   "execution_count": 28,
   "id": "2f5d5b4e-8c45-4622-bd74-abf0c586fa0d",
   "metadata": {},
   "outputs": [
    {
     "data": {
      "text/html": [
       "<div>\n",
       "<style scoped>\n",
       "    .dataframe tbody tr th:only-of-type {\n",
       "        vertical-align: middle;\n",
       "    }\n",
       "\n",
       "    .dataframe tbody tr th {\n",
       "        vertical-align: top;\n",
       "    }\n",
       "\n",
       "    .dataframe thead th {\n",
       "        text-align: right;\n",
       "    }\n",
       "</style>\n",
       "<table border=\"1\" class=\"dataframe\">\n",
       "  <thead>\n",
       "    <tr style=\"text-align: right;\">\n",
       "      <th></th>\n",
       "      <th>avg daily temp</th>\n",
       "      <th>avg precip (mm/h)</th>\n",
       "      <th>rainfall hours</th>\n",
       "      <th>flood_likelihood</th>\n",
       "    </tr>\n",
       "    <tr>\n",
       "      <th>date</th>\n",
       "      <th></th>\n",
       "      <th></th>\n",
       "      <th></th>\n",
       "      <th></th>\n",
       "    </tr>\n",
       "  </thead>\n",
       "  <tbody>\n",
       "    <tr>\n",
       "      <th>08/07/2024</th>\n",
       "      <td>26.544</td>\n",
       "      <td>1.33</td>\n",
       "      <td>17.0</td>\n",
       "      <td>0</td>\n",
       "    </tr>\n",
       "    <tr>\n",
       "      <th>09/07/2024</th>\n",
       "      <td>25.928</td>\n",
       "      <td>0.60</td>\n",
       "      <td>19.0</td>\n",
       "      <td>0</td>\n",
       "    </tr>\n",
       "    <tr>\n",
       "      <th>10/07/2024</th>\n",
       "      <td>25.816</td>\n",
       "      <td>0.43</td>\n",
       "      <td>19.0</td>\n",
       "      <td>0</td>\n",
       "    </tr>\n",
       "    <tr>\n",
       "      <th>11/07/2024</th>\n",
       "      <td>25.480</td>\n",
       "      <td>0.58</td>\n",
       "      <td>21.0</td>\n",
       "      <td>0</td>\n",
       "    </tr>\n",
       "    <tr>\n",
       "      <th>12/07/2024</th>\n",
       "      <td>25.200</td>\n",
       "      <td>1.15</td>\n",
       "      <td>24.0</td>\n",
       "      <td>1</td>\n",
       "    </tr>\n",
       "    <tr>\n",
       "      <th>13/07/2024</th>\n",
       "      <td>25.928</td>\n",
       "      <td>0.26</td>\n",
       "      <td>11.0</td>\n",
       "      <td>0</td>\n",
       "    </tr>\n",
       "    <tr>\n",
       "      <th>14/07/2024</th>\n",
       "      <td>25.928</td>\n",
       "      <td>0.55</td>\n",
       "      <td>6.0</td>\n",
       "      <td>0</td>\n",
       "    </tr>\n",
       "    <tr>\n",
       "      <th>15/07/2024</th>\n",
       "      <td>25.928</td>\n",
       "      <td>0.13</td>\n",
       "      <td>7.0</td>\n",
       "      <td>0</td>\n",
       "    </tr>\n",
       "    <tr>\n",
       "      <th>16/07/2024</th>\n",
       "      <td>25.704</td>\n",
       "      <td>0.51</td>\n",
       "      <td>8.0</td>\n",
       "      <td>0</td>\n",
       "    </tr>\n",
       "    <tr>\n",
       "      <th>17/07/2024</th>\n",
       "      <td>25.648</td>\n",
       "      <td>0.47</td>\n",
       "      <td>6.0</td>\n",
       "      <td>0</td>\n",
       "    </tr>\n",
       "    <tr>\n",
       "      <th>18/07/2024</th>\n",
       "      <td>25.816</td>\n",
       "      <td>0.18</td>\n",
       "      <td>4.0</td>\n",
       "      <td>0</td>\n",
       "    </tr>\n",
       "    <tr>\n",
       "      <th>19/07/2024</th>\n",
       "      <td>25.928</td>\n",
       "      <td>0.10</td>\n",
       "      <td>4.0</td>\n",
       "      <td>0</td>\n",
       "    </tr>\n",
       "    <tr>\n",
       "      <th>20/07/2024</th>\n",
       "      <td>25.816</td>\n",
       "      <td>0.29</td>\n",
       "      <td>6.0</td>\n",
       "      <td>0</td>\n",
       "    </tr>\n",
       "    <tr>\n",
       "      <th>21/07/2024</th>\n",
       "      <td>25.760</td>\n",
       "      <td>0.14</td>\n",
       "      <td>6.0</td>\n",
       "      <td>0</td>\n",
       "    </tr>\n",
       "  </tbody>\n",
       "</table>\n",
       "</div>"
      ],
      "text/plain": [
       "            avg daily temp  avg precip (mm/h)  rainfall hours  \\\n",
       "date                                                            \n",
       "08/07/2024          26.544               1.33            17.0   \n",
       "09/07/2024          25.928               0.60            19.0   \n",
       "10/07/2024          25.816               0.43            19.0   \n",
       "11/07/2024          25.480               0.58            21.0   \n",
       "12/07/2024          25.200               1.15            24.0   \n",
       "13/07/2024          25.928               0.26            11.0   \n",
       "14/07/2024          25.928               0.55             6.0   \n",
       "15/07/2024          25.928               0.13             7.0   \n",
       "16/07/2024          25.704               0.51             8.0   \n",
       "17/07/2024          25.648               0.47             6.0   \n",
       "18/07/2024          25.816               0.18             4.0   \n",
       "19/07/2024          25.928               0.10             4.0   \n",
       "20/07/2024          25.816               0.29             6.0   \n",
       "21/07/2024          25.760               0.14             6.0   \n",
       "\n",
       "            flood_likelihood  \n",
       "date                          \n",
       "08/07/2024                 0  \n",
       "09/07/2024                 0  \n",
       "10/07/2024                 0  \n",
       "11/07/2024                 0  \n",
       "12/07/2024                 1  \n",
       "13/07/2024                 0  \n",
       "14/07/2024                 0  \n",
       "15/07/2024                 0  \n",
       "16/07/2024                 0  \n",
       "17/07/2024                 0  \n",
       "18/07/2024                 0  \n",
       "19/07/2024                 0  \n",
       "20/07/2024                 0  \n",
       "21/07/2024                 0  "
      ]
     },
     "execution_count": 28,
     "metadata": {},
     "output_type": "execute_result"
    }
   ],
   "source": [
    "forc_data4[\"flood_likelihood\"] = future_flood_pred\n",
    "\n",
    "forc_data4"
   ]
  },
  {
   "cell_type": "code",
   "execution_count": 29,
   "id": "0b7ee733-156f-4ed3-bd74-d4a358cba1bd",
   "metadata": {},
   "outputs": [
    {
     "data": {
      "text/html": [
       "<div>\n",
       "<style scoped>\n",
       "    .dataframe tbody tr th:only-of-type {\n",
       "        vertical-align: middle;\n",
       "    }\n",
       "\n",
       "    .dataframe tbody tr th {\n",
       "        vertical-align: top;\n",
       "    }\n",
       "\n",
       "    .dataframe thead th {\n",
       "        text-align: right;\n",
       "    }\n",
       "</style>\n",
       "<table border=\"1\" class=\"dataframe\">\n",
       "  <thead>\n",
       "    <tr style=\"text-align: right;\">\n",
       "      <th></th>\n",
       "      <th>avg daily temp</th>\n",
       "      <th>avg precip (mm/h)</th>\n",
       "      <th>rainfall hours</th>\n",
       "      <th>flood_likelihood</th>\n",
       "    </tr>\n",
       "    <tr>\n",
       "      <th>date</th>\n",
       "      <th></th>\n",
       "      <th></th>\n",
       "      <th></th>\n",
       "      <th></th>\n",
       "    </tr>\n",
       "  </thead>\n",
       "  <tbody>\n",
       "    <tr>\n",
       "      <th>12/07/2024</th>\n",
       "      <td>25.2</td>\n",
       "      <td>1.15</td>\n",
       "      <td>24.0</td>\n",
       "      <td>1</td>\n",
       "    </tr>\n",
       "  </tbody>\n",
       "</table>\n",
       "</div>"
      ],
      "text/plain": [
       "            avg daily temp  avg precip (mm/h)  rainfall hours  \\\n",
       "date                                                            \n",
       "12/07/2024            25.2               1.15            24.0   \n",
       "\n",
       "            flood_likelihood  \n",
       "date                          \n",
       "12/07/2024                 1  "
      ]
     },
     "execution_count": 29,
     "metadata": {},
     "output_type": "execute_result"
    }
   ],
   "source": [
    "forc_data4.loc[forc_data4[\"flood_likelihood\"] == 1]"
   ]
  },
  {
   "cell_type": "markdown",
   "id": "9fa06725-534b-4705-8af5-2d0f398c9c63",
   "metadata": {},
   "source": [
    "From the prediction, we have that the possible next lagos flood date is 12/07/2014 (12th July, 2024). As earlier said, Under normal circumstances, 1.15 mm of rain per hour, is unlikely to cause significant flooding. However, if the rain is prolonged for hours (in this case 24 hours), there is a possibility of localized flooding, particularly in areas with poor drainage, low-lying regions, or places already experiencing saturated soil conditions."
   ]
  },
  {
   "cell_type": "markdown",
   "id": "6826a22a-4d8f-40d4-8872-058ab77f3f1f",
   "metadata": {},
   "source": [
    "## Conclusion\n",
    "\n",
    "This case study highlights the importance of using data-driven approaches to predict and prepare for potential flood events in Lagos.\n",
    "\n",
    "These findings reinforce the need for robust infrastructure, effective drainage systems, and proactive disaster management strategies to mitigate the impact of such environmental events. Ensuring the safety and resilience of urban areas against flooding requires ongoing efforts and the collaboration of government, communities, and experts in meteorology and urban planning.\n",
    "\n",
    "\n",
    "Thanks for your time.\n",
    "\n",
    "A report by Sandra Asagade (https://linktr.ee/sandra_asagade)"
   ]
  },
  {
   "cell_type": "code",
   "execution_count": null,
   "id": "a01e0953-4150-4eea-b160-a4eefae84b0a",
   "metadata": {},
   "outputs": [],
   "source": []
  }
 ],
 "metadata": {
  "kernelspec": {
   "display_name": "Python 3 (ipykernel)",
   "language": "python",
   "name": "python3"
  },
  "language_info": {
   "codemirror_mode": {
    "name": "ipython",
    "version": 3
   },
   "file_extension": ".py",
   "mimetype": "text/x-python",
   "name": "python",
   "nbconvert_exporter": "python",
   "pygments_lexer": "ipython3",
   "version": "3.12.4"
  }
 },
 "nbformat": 4,
 "nbformat_minor": 5
}
